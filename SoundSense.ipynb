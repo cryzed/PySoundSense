{
 "cells": [
  {
   "cell_type": "code",
   "execution_count": 4,
   "metadata": {},
   "outputs": [],
   "source": [
    "import tempfile\n",
    "import pathlib\n",
    "\n",
    "\n",
    "SOUND_PACK_URL = 'http://df.zweistein.cz/soundsense/soundpack.zip'\n",
    "CHUNK_SIZE = 1000 ** 2\n",
    "\n",
    "destination = pathlib.Path(tempfile.mkdtemp())\n",
    "soundpack_zip_path = destination / \"soundpack.zip\"\n",
    "soundpack_path = destination / \"soundpack\"\n",
    "soundpack_path.mkdir(parents=True, exist_ok=True)"
   ]
  },
  {
   "cell_type": "code",
   "execution_count": 5,
   "metadata": {},
   "outputs": [
    {
     "name": "stdout",
     "output_type": "stream",
     "text": [
      "Downloading: 'http://df.zweistein.cz/soundsense/soundpack.zip'... done.\n"
     ]
    }
   ],
   "source": [
    "import requests\n",
    "\n",
    "\n",
    "response = requests.get(SOUND_PACK_URL, stream=True)\n",
    "\n",
    "print(f'Downloading: {SOUND_PACK_URL!r}... ', end='')\n",
    "with open(soundpack_zip_path, 'wb') as file:\n",
    "    for chunk in response.iter_content(CHUNK_SIZE):\n",
    "        file.write(chunk)\n",
    "print(' done.')"
   ]
  },
  {
   "cell_type": "code",
   "execution_count": 6,
   "metadata": {},
   "outputs": [
    {
     "name": "stdout",
     "output_type": "stream",
     "text": [
      "Extracting: /tmp/tmpy_xhagcq/soundpack.zip to /tmp/tmpy_xhagcq/soundpack...done.\n"
     ]
    }
   ],
   "source": [
    "import zipfile\n",
    "\n",
    "\n",
    "print(f'Extracting: {soundpack_zip_path!s} to {soundpack_path!s}...', end='')\n",
    "with zipfile.ZipFile(soundpack_zip_path) as zip_file:\n",
    "    zip_file.extractall(soundpack_path)\n",
    "print(' done.')"
   ]
  },
  {
   "cell_type": "code",
   "execution_count": 18,
   "metadata": {},
   "outputs": [
    {
     "name": "stdout",
     "output_type": "stream",
     "text": [
      "- Analzying /tmp/tmpy_xhagcq/soundpack/packs/autoUpdater.xml... done.\n",
      "- Analzying /tmp/tmpy_xhagcq/soundpack/packs/weather/weather.xml... done.\n",
      "- Analzying /tmp/tmpy_xhagcq/soundpack/packs/trading/trading.xml... done.\n",
      "- Analzying /tmp/tmpy_xhagcq/soundpack/packs/system/system.xml... done.\n",
      "- Analzying /tmp/tmpy_xhagcq/soundpack/packs/social/visitors.xml... done.\n",
      "- Analzying /tmp/tmpy_xhagcq/soundpack/packs/social/social.xml... done.\n",
      "- Analzying /tmp/tmpy_xhagcq/soundpack/packs/social/missing.xml... done.\n",
      "- Analzying /tmp/tmpy_xhagcq/soundpack/packs/social/children.xml... done.\n",
      "- Analzying /tmp/tmpy_xhagcq/soundpack/packs/seasons/seasons.xml... done.\n",
      "- Analzying /tmp/tmpy_xhagcq/soundpack/packs/production/production.xml... done.\n",
      "- Analzying /tmp/tmpy_xhagcq/soundpack/packs/production/foodAndDrinkCancelations.xml... done.\n",
      "- Analzying /tmp/tmpy_xhagcq/soundpack/packs/production/cancelations.xml... done.\n",
      "- Analzying /tmp/tmpy_xhagcq/soundpack/packs/moods/moods.xml... done.\n",
      "- Analzying /tmp/tmpy_xhagcq/soundpack/packs/mining/mining.xml... done.\n",
      "- Analzying /tmp/tmpy_xhagcq/soundpack/packs/mining/enviromentalHazard.xml... done.\n",
      "- Analzying /tmp/tmpy_xhagcq/soundpack/packs/mandates/mandates.xml... done.\n",
      "- Analzying /tmp/tmpy_xhagcq/soundpack/packs/intruders/intruders.xml... done.\n",
      "- Analzying /tmp/tmpy_xhagcq/soundpack/packs/interactions/were.xml... done.\n",
      "- Analzying /tmp/tmpy_xhagcq/soundpack/packs/interactions/vampire.xml... done.\n",
      "- Analzying /tmp/tmpy_xhagcq/soundpack/packs/interactions/necromancy.xml... done.\n",
      "- Analzying /tmp/tmpy_xhagcq/soundpack/packs/fishing/fishing.xml... done.\n",
      "- Analzying /tmp/tmpy_xhagcq/soundpack/packs/emotion/emotion.xml... done.\n",
      "- Analzying /tmp/tmpy_xhagcq/soundpack/packs/dfhack/dfhack.xml... done.\n",
      "- Analzying /tmp/tmpy_xhagcq/soundpack/packs/default/sample.xml... done.\n",
      "- Analzying /tmp/tmpy_xhagcq/soundpack/packs/default/customHost.xml... done.\n",
      "- Analzying /tmp/tmpy_xhagcq/soundpack/packs/deaths/slaughtering.xml... done.\n",
      "- Analzying /tmp/tmpy_xhagcq/soundpack/packs/deaths/founddeaths.xml... done.\n",
      "- Analzying /tmp/tmpy_xhagcq/soundpack/packs/deaths/directdeaths.xml... done.\n",
      "- Analzying /tmp/tmpy_xhagcq/soundpack/packs/battle/strikes.xml... done.\n",
      "- Analzying /tmp/tmpy_xhagcq/soundpack/packs/battle/status.xml... done.\n",
      "- Analzying /tmp/tmpy_xhagcq/soundpack/packs/battle/hitevents.xml... done.\n",
      "- Analzying /tmp/tmpy_xhagcq/soundpack/packs/battle/gore.xml... done.\n",
      "- Analzying /tmp/tmpy_xhagcq/soundpack/packs/battle/breath.xml... done.\n",
      "- Analzying /tmp/tmpy_xhagcq/soundpack/packs/battle/battle.xml... done.\n",
      "- Analzying /tmp/tmpy_xhagcq/soundpack/packs/animals/yak.xml... done.\n",
      "- Analzying /tmp/tmpy_xhagcq/soundpack/packs/animals/vermin.xml... done.\n",
      "- Analzying /tmp/tmpy_xhagcq/soundpack/packs/animals/turkey.xml... done.\n",
      "- Analzying /tmp/tmpy_xhagcq/soundpack/packs/animals/training.xml... done.\n",
      "- Analzying /tmp/tmpy_xhagcq/soundpack/packs/animals/sheep.xml... done.\n",
      "- Analzying /tmp/tmpy_xhagcq/soundpack/packs/animals/reindeer.xml... done.\n",
      "- Analzying /tmp/tmpy_xhagcq/soundpack/packs/animals/rabbit.xml... done.\n",
      "- Analzying /tmp/tmpy_xhagcq/soundpack/packs/animals/pig.xml... done.\n",
      "- Analzying /tmp/tmpy_xhagcq/soundpack/packs/animals/peafowl.xml... done.\n",
      "- Analzying /tmp/tmpy_xhagcq/soundpack/packs/animals/octopus.xml... done.\n",
      "- Analzying /tmp/tmpy_xhagcq/soundpack/packs/animals/llama.xml... done.\n",
      "- Analzying /tmp/tmpy_xhagcq/soundpack/packs/animals/guineafowl.xml... done.\n",
      "- Analzying /tmp/tmpy_xhagcq/soundpack/packs/animals/goose.xml... done.\n",
      "- Analzying /tmp/tmpy_xhagcq/soundpack/packs/animals/goat.xml... done.\n",
      "- Analzying /tmp/tmpy_xhagcq/soundpack/packs/animals/duck.xml... done.\n",
      "- Analzying /tmp/tmpy_xhagcq/soundpack/packs/animals/dog.xml... done.\n",
      "- Analzying /tmp/tmpy_xhagcq/soundpack/packs/animals/chicken.xml... done.\n",
      "- Analzying /tmp/tmpy_xhagcq/soundpack/packs/animals/cavy.xml... done.\n",
      "- Analzying /tmp/tmpy_xhagcq/soundpack/packs/animals/cat.xml... done.\n",
      "- Analzying /tmp/tmpy_xhagcq/soundpack/packs/animals/bugbat.xml... done.\n",
      "- Analzying /tmp/tmpy_xhagcq/soundpack/packs/animals/buffalo.xml... done.\n",
      "- Analzying /tmp/tmpy_xhagcq/soundpack/packs/animals/armadillo.xml... done.\n",
      "- Analzying /tmp/tmpy_xhagcq/soundpack/packs/animals/animals.xml... done.\n",
      "- Analzying /tmp/tmpy_xhagcq/soundpack/packs/animals/alpaca.xml... done.\n",
      "- Analzying /tmp/tmpy_xhagcq/soundpack/packs/animals/beekeeping/beekeeping.xml... done.\n",
      "- Analzying /tmp/tmpy_xhagcq/soundpack/packs/adventurer/speech_question.xml... done.\n",
      "- Analzying /tmp/tmpy_xhagcq/soundpack/packs/adventurer/speech_greeting.xml... done.\n",
      "- Analzying /tmp/tmpy_xhagcq/soundpack/packs/adventurer/speech_concern.xml... done.\n",
      "- Analzying /tmp/tmpy_xhagcq/soundpack/packs/adventurer/speech_answer.xml... done.\n",
      "- Analzying /tmp/tmpy_xhagcq/soundpack/packs/adventurer/speech_anger.xml... done.\n",
      "- Analzying /tmp/tmpy_xhagcq/soundpack/packs/adventurer/speech.xml... done.\n",
      "- Analzying /tmp/tmpy_xhagcq/soundpack/packs/adventurer/enviroment.xml... done.\n",
      "- Analzying /tmp/tmpy_xhagcq/soundpack/packs/adventurer/combat_actions.xml... done.\n",
      "- Analzying /tmp/tmpy_xhagcq/soundpack/packs/adventurer/animal_behavior.xml... done.\n",
      "- Analzying /tmp/tmpy_xhagcq/soundpack/packs/adventurer/ambush.xml... done.\n",
      "- Analzying /tmp/tmpy_xhagcq/soundpack/packs/adventurer/adventurer.xml... done.\n",
      "- Analzying /tmp/tmpy_xhagcq/soundpack/packs/adventurer/actions.xml... done.\n",
      "\n",
      "Found tags and their attributes:\n",
      "- 'attribution': 'author', 'description', 'license', 'url'\n",
      "- 'autoupdater': \n",
      "- 'body': \n",
      "- 'directory': 'name'\n",
      "- 'file': 'name', 'sha1', 'size'\n",
      "- 'html': \n",
      "- 'includelisting': 'filepathandname'\n",
      "- 'sound': 'ansiformat', 'ansipattern', 'channel', 'concurency', 'delay', 'haltonmatch', 'logpattern', 'loop', 'playbackthreshhold', 'propability', 'randombalance', 'timeout'\n",
      "- 'soundfile': 'balanceadjustment', 'delay', 'filename', 'playlist', 'randombalance', 'volumeadjustment', 'weight'\n",
      "- 'sounds': 'defaultansicolor', 'defaultansiformat', 'defaultansipattern', 'strictattributions'\n"
     ]
    }
   ],
   "source": [
    "import bs4\n",
    "import collections\n",
    "import pprint\n",
    "import pathlib\n",
    "\n",
    "tags_to_attributes = collections.defaultdict(set)\n",
    "\n",
    "for path in pathlib.Path(soundpack_path).rglob(\"*.xml\"):\n",
    "    print(f'- Analzying {path!s}...', end='')\n",
    "    soup = bs4.BeautifulSoup(path.read_bytes(), features='lxml')\n",
    "    for tag in soup():\n",
    "        tags_to_attributes[tag.name].update(tag.attrs)\n",
    "    \n",
    "    print(' done.')\n",
    "\n",
    "print('\\nFound tags and their attributes:')\n",
    "for tag, attributes in sorted(tags_to_attributes.items()):\n",
    "    print(f'- {tag!r}: {\", \".join(sorted(repr(attribute) for attribute in attributes))}')"
   ]
  }
 ],
 "metadata": {
  "kernelspec": {
   "display_name": "Python 3",
   "language": "python",
   "name": "python3"
  },
  "language_info": {
   "codemirror_mode": {
    "name": "ipython",
    "version": 3
   },
   "file_extension": ".py",
   "mimetype": "text/x-python",
   "name": "python",
   "nbconvert_exporter": "python",
   "pygments_lexer": "ipython3",
   "version": "3.8.3"
  }
 },
 "nbformat": 4,
 "nbformat_minor": 4
}
